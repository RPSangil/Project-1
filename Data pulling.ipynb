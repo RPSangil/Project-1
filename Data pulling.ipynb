{
 "cells": [
  {
   "cell_type": "code",
   "execution_count": 1,
   "id": "b7dc2559",
   "metadata": {},
   "outputs": [],
   "source": [
    "# Initial imports\n",
    "import os\n",
    "import requests\n",
    "import pandas as pd\n",
    "from dotenv import load_dotenv\n",
    "import alpaca_trade_api as tradeapi\n",
    "import csv\n",
    "import json\n",
    "from requests import Request, Session\n",
    "from requests.exceptions import ConnectionError, Timeout, TooManyRedirects"
   ]
  },
  {
   "cell_type": "code",
   "execution_count": 2,
   "id": "8841d5c5",
   "metadata": {},
   "outputs": [
    {
     "data": {
      "text/plain": [
       "True"
      ]
     },
     "execution_count": 2,
     "metadata": {},
     "output_type": "execute_result"
    }
   ],
   "source": [
    "# Load .env variables\n",
    "load_dotenv()"
   ]
  },
  {
   "cell_type": "markdown",
   "id": "8d292375",
   "metadata": {},
   "source": [
    "## Fetching Stock Data"
   ]
  },
  {
   "cell_type": "code",
   "execution_count": 3,
   "id": "ed36fda6",
   "metadata": {},
   "outputs": [],
   "source": [
    "# Set Alpaca API key and secret key\n",
    "alpaca_key = os.getenv('ALPACA_API_KEY')\n",
    "alpaca_priv_key = os.getenv('ALPACA_SECRET_KEY')"
   ]
  },
  {
   "cell_type": "code",
   "execution_count": 4,
   "id": "bc3e8b4b",
   "metadata": {},
   "outputs": [
    {
     "name": "stdout",
     "output_type": "stream",
     "text": [
      "<class 'str'>\n",
      "<class 'str'>\n"
     ]
    }
   ],
   "source": [
    "# Check data types to ensure key imports were successful\n",
    "print(type(alpaca_key))\n",
    "print(type(alpaca_priv_key))"
   ]
  },
  {
   "cell_type": "code",
   "execution_count": 5,
   "id": "882e1859",
   "metadata": {},
   "outputs": [],
   "source": [
    "# Create alpaca API object\n",
    "api = tradeapi.REST(\n",
    "    alpaca_key,\n",
    "    alpaca_priv_key,\n",
    "    api_version = 'v2')"
   ]
  },
  {
   "cell_type": "code",
   "execution_count": 6,
   "id": "e8ebca75",
   "metadata": {},
   "outputs": [],
   "source": [
    "# Create parameters to be used in data pulling\n",
    "start = pd.Timestamp('2017-05-05', tz='America/New_York').isoformat()\n",
    "end = pd.Timestamp('2022-05-05', tz='America/New_York').isoformat()\n",
    "tickers = ['AAPL', 'MSFT', 'AMZN' , 'TSLA', 'GOOGL']\n",
    "timeframe = '1Day'"
   ]
  },
  {
   "cell_type": "code",
   "execution_count": 7,
   "id": "1c188bc0",
   "metadata": {},
   "outputs": [],
   "source": [
    "# Pull data\n",
    "stock_pulled_df = api.get_bars(\n",
    "    tickers,\n",
    "    timeframe,\n",
    "    start = start,\n",
    "    end = end\n",
    ").df"
   ]
  },
  {
   "cell_type": "code",
   "execution_count": 8,
   "id": "35ef04fd",
   "metadata": {},
   "outputs": [],
   "source": [
    "# Slice dataframe\n",
    "aapl = stock_pulled_df[stock_pulled_df['symbol']=='AAPL'].drop('symbol', axis=1)\n",
    "msft = stock_pulled_df[stock_pulled_df['symbol']=='MSFT'].drop('symbol', axis=1)\n",
    "amzn = stock_pulled_df[stock_pulled_df['symbol']=='AMZN'].drop('symbol', axis=1)\n",
    "tsla = stock_pulled_df[stock_pulled_df['symbol']=='TSLA'].drop('symbol', axis=1)\n",
    "googl = stock_pulled_df[stock_pulled_df['symbol']=='GOOGL'].drop('symbol', axis=1)\n",
    "\n",
    "# Concatenate sliced data into new dataframe\n",
    "stock_df = pd.concat(\n",
    "    [aapl, msft, amzn, tsla, googl],\n",
    "    axis=1,\n",
    "    keys=['AAPL', 'MSFT', 'AMZN', 'TSLA', 'GOOGL']\n",
    ")"
   ]
  },
  {
   "cell_type": "code",
   "execution_count": 9,
   "id": "0ece580c",
   "metadata": {},
   "outputs": [],
   "source": [
    "# Save data to csv\n",
    "stock_df.to_csv('stock data', sep=',')"
   ]
  },
  {
   "cell_type": "markdown",
   "id": "28a40614",
   "metadata": {},
   "source": [
    "## Fetching Crypto Data"
   ]
  },
  {
   "cell_type": "code",
   "execution_count": 15,
   "id": "5d5e2e95",
   "metadata": {},
   "outputs": [],
   "source": [
    "# Defining URLs\n",
    "btc_url = 'https://api.alternative.me/v2/ticker/bitcoin/'\n",
    "eth_url = 'https://api.alternative.me/v2/ticker/ethereum/'\n",
    "luna_url = 'https://api.alternative.me/v2/ticker/terra-luna/'\n",
    "sol_url = 'https://api.alternative.me/v2/ticker/solana/'\n",
    "ada_url = 'https://api.alternative.me/v2/ticker/cardano/'"
   ]
  },
  {
   "cell_type": "code",
   "execution_count": 11,
   "id": "f2d588ca",
   "metadata": {},
   "outputs": [],
   "source": []
  },
  {
   "cell_type": "code",
   "execution_count": null,
   "id": "ef69b37e",
   "metadata": {},
   "outputs": [],
   "source": []
  },
  {
   "cell_type": "code",
   "execution_count": null,
   "id": "967c7f96",
   "metadata": {},
   "outputs": [],
   "source": []
  },
  {
   "cell_type": "code",
   "execution_count": null,
   "id": "07646fdf",
   "metadata": {},
   "outputs": [],
   "source": []
  },
  {
   "cell_type": "code",
   "execution_count": null,
   "id": "69e6b70a",
   "metadata": {},
   "outputs": [],
   "source": []
  },
  {
   "cell_type": "code",
   "execution_count": null,
   "id": "a2a90cb6",
   "metadata": {},
   "outputs": [],
   "source": []
  }
 ],
 "metadata": {
  "kernelspec": {
   "display_name": "Python 3 (ipykernel)",
   "language": "python",
   "name": "python3"
  },
  "language_info": {
   "codemirror_mode": {
    "name": "ipython",
    "version": 3
   },
   "file_extension": ".py",
   "mimetype": "text/x-python",
   "name": "python",
   "nbconvert_exporter": "python",
   "pygments_lexer": "ipython3",
   "version": "3.7.11"
  }
 },
 "nbformat": 4,
 "nbformat_minor": 5
}
