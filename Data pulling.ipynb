{
 "cells": [
  {
   "cell_type": "code",
   "execution_count": 1,
   "id": "54214a81",
   "metadata": {},
   "outputs": [],
   "source": [
    "# Initial imports\n",
    "import os\n",
    "import requests\n",
    "import pandas as pd\n",
    "from dotenv import load_dotenv\n",
    "import alpaca_trade_api as tradeapi\n",
    "import csv\n",
    "import json\n",
    "from requests import Request, Session\n",
    "from requests.exceptions import ConnectionError, Timeout, TooManyRedirects\n",
    "from datetime import datetime, timezone"
   ]
  },
  {
   "cell_type": "code",
   "execution_count": 2,
   "id": "f12ef325",
   "metadata": {},
   "outputs": [
    {
     "data": {
      "text/plain": [
       "True"
      ]
     },
     "execution_count": 2,
     "metadata": {},
     "output_type": "execute_result"
    }
   ],
   "source": [
    "# Load .env variables\n",
    "load_dotenv()"
   ]
  },
  {
   "cell_type": "markdown",
   "id": "00caea8e",
   "metadata": {},
   "source": [
    "## Fetching Stock Data"
   ]
  },
  {
   "cell_type": "code",
   "execution_count": 3,
   "id": "2a272dac",
   "metadata": {},
   "outputs": [],
   "source": [
    "# Set Alpaca API key and secret key\n",
    "alpaca_key = os.getenv('ALPACA_API_KEY')\n",
    "alpaca_priv_key = os.getenv('ALPACA_SECRET_KEY')"
   ]
  },
  {
   "cell_type": "code",
   "execution_count": 4,
   "id": "093c2d2b",
   "metadata": {},
   "outputs": [
    {
     "name": "stdout",
     "output_type": "stream",
     "text": [
      "<class 'str'>\n",
      "<class 'str'>\n"
     ]
    }
   ],
   "source": [
    "# Check data types to ensure key imports were successful\n",
    "print(type(alpaca_key))\n",
    "print(type(alpaca_priv_key))"
   ]
  },
  {
   "cell_type": "code",
   "execution_count": 5,
   "id": "4692b2b5",
   "metadata": {},
   "outputs": [],
   "source": [
    "# Create alpaca API object\n",
    "api = tradeapi.REST(\n",
    "    alpaca_key,\n",
    "    alpaca_priv_key,\n",
    "    api_version = 'v2')"
   ]
  },
  {
   "cell_type": "code",
   "execution_count": 6,
   "id": "6b37c99e",
   "metadata": {},
   "outputs": [],
   "source": [
    "# Create parameters to be used in data pulling\n",
    "start = pd.Timestamp('2017-05-05', tz='America/New_York').isoformat()\n",
    "end = pd.Timestamp('2022-05-05', tz='America/New_York').isoformat()\n",
    "tickers = ['AAPL', 'MSFT', 'AMZN' , 'TSLA', 'GOOGL']\n",
    "timeframe = '1Day'"
   ]
  },
  {
   "cell_type": "code",
   "execution_count": 7,
   "id": "b336beb0",
   "metadata": {},
   "outputs": [],
   "source": [
    "# Pull data\n",
    "stock_pulled_df = api.get_bars(\n",
    "    tickers,\n",
    "    timeframe,\n",
    "    start = start,\n",
    "    end = end\n",
    ").df"
   ]
  },
  {
   "cell_type": "code",
   "execution_count": 8,
   "id": "66044ead",
   "metadata": {},
   "outputs": [],
   "source": [
    "# Slice dataframe\n",
    "aapl = stock_pulled_df[stock_pulled_df['symbol']=='AAPL'].drop('symbol', axis=1)\n",
    "msft = stock_pulled_df[stock_pulled_df['symbol']=='MSFT'].drop('symbol', axis=1)\n",
    "amzn = stock_pulled_df[stock_pulled_df['symbol']=='AMZN'].drop('symbol', axis=1)\n",
    "tsla = stock_pulled_df[stock_pulled_df['symbol']=='TSLA'].drop('symbol', axis=1)\n",
    "googl = stock_pulled_df[stock_pulled_df['symbol']=='GOOGL'].drop('symbol', axis=1)\n",
    "\n",
    "# Concatenate sliced data into new dataframe\n",
    "stock_df = pd.concat(\n",
    "    [aapl, msft, amzn, tsla, googl],\n",
    "    axis=1,\n",
    "    keys=['AAPL', 'MSFT', 'AMZN', 'TSLA', 'GOOGL']\n",
    ")"
   ]
  },
  {
   "cell_type": "code",
   "execution_count": 9,
   "id": "e696896e",
   "metadata": {},
   "outputs": [],
   "source": [
    "# Index dataframe by date\n",
    "stock_df.index=stock_df.index.date"
   ]
  },
  {
   "cell_type": "code",
   "execution_count": 10,
   "id": "7a4b9ab7",
   "metadata": {},
   "outputs": [
    {
     "data": {
      "text/html": [
       "<div>\n",
       "<style scoped>\n",
       "    .dataframe tbody tr th:only-of-type {\n",
       "        vertical-align: middle;\n",
       "    }\n",
       "\n",
       "    .dataframe tbody tr th {\n",
       "        vertical-align: top;\n",
       "    }\n",
       "\n",
       "    .dataframe thead th {\n",
       "        text-align: right;\n",
       "    }\n",
       "</style>\n",
       "<table border=\"1\" class=\"dataframe\">\n",
       "  <thead>\n",
       "    <tr style=\"text-align: right;\">\n",
       "      <th></th>\n",
       "      <th>open</th>\n",
       "      <th>high</th>\n",
       "      <th>low</th>\n",
       "      <th>close</th>\n",
       "      <th>volume</th>\n",
       "      <th>trade_count</th>\n",
       "    </tr>\n",
       "  </thead>\n",
       "  <tbody>\n",
       "    <tr>\n",
       "      <th>2017-05-05</th>\n",
       "      <td>146.76</td>\n",
       "      <td>148.98</td>\n",
       "      <td>146.76</td>\n",
       "      <td>148.96</td>\n",
       "      <td>27359822</td>\n",
       "      <td>157911</td>\n",
       "    </tr>\n",
       "    <tr>\n",
       "      <th>2017-05-08</th>\n",
       "      <td>149.03</td>\n",
       "      <td>153.70</td>\n",
       "      <td>149.03</td>\n",
       "      <td>153.01</td>\n",
       "      <td>48864610</td>\n",
       "      <td>255930</td>\n",
       "    </tr>\n",
       "    <tr>\n",
       "      <th>2017-05-09</th>\n",
       "      <td>153.88</td>\n",
       "      <td>154.88</td>\n",
       "      <td>153.45</td>\n",
       "      <td>153.99</td>\n",
       "      <td>39135644</td>\n",
       "      <td>221722</td>\n",
       "    </tr>\n",
       "    <tr>\n",
       "      <th>2017-05-10</th>\n",
       "      <td>153.63</td>\n",
       "      <td>153.94</td>\n",
       "      <td>152.11</td>\n",
       "      <td>153.26</td>\n",
       "      <td>25807492</td>\n",
       "      <td>156839</td>\n",
       "    </tr>\n",
       "    <tr>\n",
       "      <th>2017-05-11</th>\n",
       "      <td>152.69</td>\n",
       "      <td>154.07</td>\n",
       "      <td>152.31</td>\n",
       "      <td>153.95</td>\n",
       "      <td>27259011</td>\n",
       "      <td>137633</td>\n",
       "    </tr>\n",
       "    <tr>\n",
       "      <th>...</th>\n",
       "      <td>...</td>\n",
       "      <td>...</td>\n",
       "      <td>...</td>\n",
       "      <td>...</td>\n",
       "      <td>...</td>\n",
       "      <td>...</td>\n",
       "    </tr>\n",
       "    <tr>\n",
       "      <th>2022-04-29</th>\n",
       "      <td>161.84</td>\n",
       "      <td>166.20</td>\n",
       "      <td>157.25</td>\n",
       "      <td>157.65</td>\n",
       "      <td>131724463</td>\n",
       "      <td>1028256</td>\n",
       "    </tr>\n",
       "    <tr>\n",
       "      <th>2022-05-02</th>\n",
       "      <td>156.65</td>\n",
       "      <td>158.23</td>\n",
       "      <td>153.27</td>\n",
       "      <td>157.96</td>\n",
       "      <td>122860515</td>\n",
       "      <td>1148543</td>\n",
       "    </tr>\n",
       "    <tr>\n",
       "      <th>2022-05-03</th>\n",
       "      <td>158.06</td>\n",
       "      <td>160.71</td>\n",
       "      <td>156.32</td>\n",
       "      <td>159.48</td>\n",
       "      <td>88581314</td>\n",
       "      <td>702272</td>\n",
       "    </tr>\n",
       "    <tr>\n",
       "      <th>2022-05-04</th>\n",
       "      <td>159.65</td>\n",
       "      <td>166.48</td>\n",
       "      <td>159.26</td>\n",
       "      <td>166.02</td>\n",
       "      <td>108376463</td>\n",
       "      <td>867145</td>\n",
       "    </tr>\n",
       "    <tr>\n",
       "      <th>2022-05-05</th>\n",
       "      <td>163.66</td>\n",
       "      <td>164.08</td>\n",
       "      <td>154.95</td>\n",
       "      <td>156.77</td>\n",
       "      <td>129993551</td>\n",
       "      <td>1157695</td>\n",
       "    </tr>\n",
       "  </tbody>\n",
       "</table>\n",
       "<p>1260 rows × 6 columns</p>\n",
       "</div>"
      ],
      "text/plain": [
       "              open    high     low   close     volume  trade_count\n",
       "2017-05-05  146.76  148.98  146.76  148.96   27359822       157911\n",
       "2017-05-08  149.03  153.70  149.03  153.01   48864610       255930\n",
       "2017-05-09  153.88  154.88  153.45  153.99   39135644       221722\n",
       "2017-05-10  153.63  153.94  152.11  153.26   25807492       156839\n",
       "2017-05-11  152.69  154.07  152.31  153.95   27259011       137633\n",
       "...            ...     ...     ...     ...        ...          ...\n",
       "2022-04-29  161.84  166.20  157.25  157.65  131724463      1028256\n",
       "2022-05-02  156.65  158.23  153.27  157.96  122860515      1148543\n",
       "2022-05-03  158.06  160.71  156.32  159.48   88581314       702272\n",
       "2022-05-04  159.65  166.48  159.26  166.02  108376463       867145\n",
       "2022-05-05  163.66  164.08  154.95  156.77  129993551      1157695\n",
       "\n",
       "[1260 rows x 6 columns]"
      ]
     },
     "execution_count": 10,
     "metadata": {},
     "output_type": "execute_result"
    }
   ],
   "source": [
    "# Drop any Null values\n",
    "stock_df.dropna()\n",
    "\n",
    "# Remove vwap column\n",
    "stock_df['AAPL'].drop('vwap', axis=1)"
   ]
  },
  {
   "cell_type": "code",
   "execution_count": 24,
   "id": "558fdb78",
   "metadata": {},
   "outputs": [],
   "source": [
    "# Save data to csv\n",
    "stock_df.to_csv('stock_data.csv')"
   ]
  },
  {
   "cell_type": "markdown",
   "id": "6e9b5e0f",
   "metadata": {},
   "source": [
    "## Fetching Crypto Data"
   ]
  },
  {
   "cell_type": "code",
   "execution_count": 12,
   "id": "aefff6ed",
   "metadata": {},
   "outputs": [],
   "source": [
    "# Defining URLs\n",
    "btc_url = 'https://api.coingecko.com/api/v3/coins/bitcoin/market_chart/range?vs_currency=usd&from=1493906401&to=1651759199'\n",
    "eth_url = 'https://api.coingecko.com/api/v3/coins/ethereum/market_chart/range?vs_currency=usd&from=1493906401&to=1651759199'\n",
    "luna_url = 'https://api.coingecko.com/api/v3/coins/terra-luna/market_chart/range?vs_currency=usd&from=1493906401&to=1651759199'\n",
    "sol_url = 'https://api.coingecko.com/api/v3/coins/solana/market_chart/range?vs_currency=usd&from=1493906401&to=1651759199'\n",
    "ada_url = 'https://api.coingecko.com/api/v3/coins/cardano/market_chart/range?vs_currency=usd&from=1493906401&to=1651759199'"
   ]
  },
  {
   "cell_type": "code",
   "execution_count": 13,
   "id": "19ef9545",
   "metadata": {},
   "outputs": [],
   "source": [
    "# Perform GET request to pull data for cryptos\n",
    "btc_request = requests.get(btc_url)\n",
    "eth_request = requests.get(eth_url)\n",
    "luna_request = requests.get(luna_url)\n",
    "sol_request = requests.get(sol_url)\n",
    "ada_request = requests.get(ada_url)"
   ]
  },
  {
   "cell_type": "code",
   "execution_count": 14,
   "id": "bd7e324e",
   "metadata": {},
   "outputs": [],
   "source": [
    "# Convert pulled data into json\n",
    "btc_request = btc_request.json()\n",
    "eth_request = eth_request.json()\n",
    "luna_request = luna_request.json()\n",
    "sol_request = sol_request.json()\n",
    "ada_request = ada_request.json()"
   ]
  },
  {
   "cell_type": "code",
   "execution_count": 15,
   "id": "9f526a92",
   "metadata": {},
   "outputs": [],
   "source": [
    "# Create and organize dataframes for cryptos\n",
    "btc_df = pd.DataFrame(btc_request['prices'])\n",
    "eth_df = pd.DataFrame(eth_request['prices'])\n",
    "luna_df = pd.DataFrame(luna_request['prices'])\n",
    "sol_df = pd.DataFrame(sol_request['prices'])\n",
    "ada_df = pd.DataFrame(ada_request['prices'])"
   ]
  },
  {
   "cell_type": "code",
   "execution_count": 16,
   "id": "44458d62",
   "metadata": {},
   "outputs": [],
   "source": [
    "# Rename columns\n",
    "btc_df.rename(columns = {0 : 'Date', 1 : 'Price'}, inplace=True)\n",
    "eth_df.rename(columns = {0 : 'Date', 1 : 'Price'}, inplace=True)\n",
    "luna_df.rename(columns = {0 : 'Date', 1 : 'Price'}, inplace=True)\n",
    "sol_df.rename(columns = {0 : 'Date', 1 : 'Price'}, inplace=True)\n",
    "ada_df.rename(columns = {0 : 'Date', 1 : 'Price'}, inplace=True)"
   ]
  },
  {
   "cell_type": "code",
   "execution_count": 17,
   "id": "8b78b069",
   "metadata": {},
   "outputs": [],
   "source": [
    "# Convert unix time format into traditonal date format\n",
    "btc_df['date'] = pd.to_datetime(btc_df['Date'], unit='ms')\n",
    "eth_df['date'] = pd.to_datetime(eth_df['Date'], unit='ms')\n",
    "luna_df['date'] = pd.to_datetime(luna_df['Date'], unit='ms')\n",
    "sol_df['date'] = pd.to_datetime(sol_df['Date'], unit='ms')\n",
    "ada_df['date'] = pd.to_datetime(ada_df['Date'], unit='ms')"
   ]
  },
  {
   "cell_type": "code",
   "execution_count": 18,
   "id": "82c57c99",
   "metadata": {},
   "outputs": [],
   "source": [
    "# Set new date format as index\n",
    "btc_df.set_index('date', inplace=True)\n",
    "eth_df.set_index('date', inplace=True)\n",
    "luna_df.set_index('date', inplace=True)\n",
    "sol_df.set_index('date', inplace=True)\n",
    "ada_df.set_index('date', inplace=True)"
   ]
  },
  {
   "cell_type": "code",
   "execution_count": 19,
   "id": "7013a74c",
   "metadata": {},
   "outputs": [],
   "source": [
    "# Drop unix column\n",
    "btc_df.drop(['Date'], axis=1, inplace=True)\n",
    "eth_df.drop(['Date'], axis=1, inplace=True)\n",
    "luna_df.drop(['Date'], axis=1, inplace=True)\n",
    "sol_df.drop(['Date'], axis=1, inplace=True)\n",
    "ada_df.drop(['Date'], axis=1, inplace=True)"
   ]
  },
  {
   "cell_type": "code",
   "execution_count": 20,
   "id": "cc74125f",
   "metadata": {},
   "outputs": [],
   "source": [
    "# Concatenate crypto dataframes\n",
    "crypto_df = pd.concat(\n",
    "    [btc_df, eth_df, luna_df, sol_df, ada_df],\n",
    "    axis=1,\n",
    "    keys=['BTC', 'ETH', 'LUNA', 'SOL', 'ADA']\n",
    ")"
   ]
  },
  {
   "cell_type": "markdown",
   "id": "ec972683",
   "metadata": {},
   "source": [
    "#### Possibly change cryptos to ones that are high in market cap ranking but been around for 5 years\n",
    "\n",
    "#### e.g btc, eth, xrp"
   ]
  },
  {
   "cell_type": "code",
   "execution_count": 21,
   "id": "07990386",
   "metadata": {},
   "outputs": [
    {
     "data": {
      "text/html": [
       "<div>\n",
       "<style scoped>\n",
       "    .dataframe tbody tr th:only-of-type {\n",
       "        vertical-align: middle;\n",
       "    }\n",
       "\n",
       "    .dataframe tbody tr th {\n",
       "        vertical-align: top;\n",
       "    }\n",
       "\n",
       "    .dataframe thead tr th {\n",
       "        text-align: left;\n",
       "    }\n",
       "\n",
       "    .dataframe thead tr:last-of-type th {\n",
       "        text-align: right;\n",
       "    }\n",
       "</style>\n",
       "<table border=\"1\" class=\"dataframe\">\n",
       "  <thead>\n",
       "    <tr>\n",
       "      <th></th>\n",
       "      <th>BTC</th>\n",
       "      <th>ETH</th>\n",
       "      <th>LUNA</th>\n",
       "      <th>SOL</th>\n",
       "      <th>ADA</th>\n",
       "    </tr>\n",
       "    <tr>\n",
       "      <th></th>\n",
       "      <th>Price</th>\n",
       "      <th>Price</th>\n",
       "      <th>Price</th>\n",
       "      <th>Price</th>\n",
       "      <th>Price</th>\n",
       "    </tr>\n",
       "    <tr>\n",
       "      <th>date</th>\n",
       "      <th></th>\n",
       "      <th></th>\n",
       "      <th></th>\n",
       "      <th></th>\n",
       "      <th></th>\n",
       "    </tr>\n",
       "  </thead>\n",
       "  <tbody>\n",
       "    <tr>\n",
       "      <th>2017-05-05</th>\n",
       "      <td>1506.043800</td>\n",
       "      <td>91.160387</td>\n",
       "      <td>NaN</td>\n",
       "      <td>NaN</td>\n",
       "      <td>NaN</td>\n",
       "    </tr>\n",
       "    <tr>\n",
       "      <th>2017-05-06</th>\n",
       "      <td>1547.815000</td>\n",
       "      <td>96.427680</td>\n",
       "      <td>NaN</td>\n",
       "      <td>NaN</td>\n",
       "      <td>NaN</td>\n",
       "    </tr>\n",
       "    <tr>\n",
       "      <th>2017-05-07</th>\n",
       "      <td>1557.883800</td>\n",
       "      <td>89.739679</td>\n",
       "      <td>NaN</td>\n",
       "      <td>NaN</td>\n",
       "      <td>NaN</td>\n",
       "    </tr>\n",
       "    <tr>\n",
       "      <th>2017-05-08</th>\n",
       "      <td>1633.380000</td>\n",
       "      <td>87.948120</td>\n",
       "      <td>NaN</td>\n",
       "      <td>NaN</td>\n",
       "      <td>NaN</td>\n",
       "    </tr>\n",
       "    <tr>\n",
       "      <th>2017-05-09</th>\n",
       "      <td>1700.177500</td>\n",
       "      <td>87.502444</td>\n",
       "      <td>NaN</td>\n",
       "      <td>NaN</td>\n",
       "      <td>NaN</td>\n",
       "    </tr>\n",
       "    <tr>\n",
       "      <th>...</th>\n",
       "      <td>...</td>\n",
       "      <td>...</td>\n",
       "      <td>...</td>\n",
       "      <td>...</td>\n",
       "      <td>...</td>\n",
       "    </tr>\n",
       "    <tr>\n",
       "      <th>2022-05-01</th>\n",
       "      <td>37820.611765</td>\n",
       "      <td>2738.174136</td>\n",
       "      <td>78.702627</td>\n",
       "      <td>85.302984</td>\n",
       "      <td>0.758064</td>\n",
       "    </tr>\n",
       "    <tr>\n",
       "      <th>2022-05-02</th>\n",
       "      <td>38537.654767</td>\n",
       "      <td>2832.513107</td>\n",
       "      <td>82.316205</td>\n",
       "      <td>89.738346</td>\n",
       "      <td>0.790253</td>\n",
       "    </tr>\n",
       "    <tr>\n",
       "      <th>2022-05-03</th>\n",
       "      <td>38561.565399</td>\n",
       "      <td>2861.372376</td>\n",
       "      <td>84.453673</td>\n",
       "      <td>87.604985</td>\n",
       "      <td>0.783051</td>\n",
       "    </tr>\n",
       "    <tr>\n",
       "      <th>2022-05-04</th>\n",
       "      <td>37758.496108</td>\n",
       "      <td>2786.047248</td>\n",
       "      <td>82.669064</td>\n",
       "      <td>85.881132</td>\n",
       "      <td>0.772803</td>\n",
       "    </tr>\n",
       "    <tr>\n",
       "      <th>2022-05-05</th>\n",
       "      <td>39699.024041</td>\n",
       "      <td>2942.052313</td>\n",
       "      <td>86.136037</td>\n",
       "      <td>92.820618</td>\n",
       "      <td>0.895928</td>\n",
       "    </tr>\n",
       "  </tbody>\n",
       "</table>\n",
       "<p>1833 rows × 5 columns</p>\n",
       "</div>"
      ],
      "text/plain": [
       "                     BTC          ETH       LUNA        SOL       ADA\n",
       "                   Price        Price      Price      Price     Price\n",
       "date                                                                 \n",
       "2017-05-05   1506.043800    91.160387        NaN        NaN       NaN\n",
       "2017-05-06   1547.815000    96.427680        NaN        NaN       NaN\n",
       "2017-05-07   1557.883800    89.739679        NaN        NaN       NaN\n",
       "2017-05-08   1633.380000    87.948120        NaN        NaN       NaN\n",
       "2017-05-09   1700.177500    87.502444        NaN        NaN       NaN\n",
       "...                  ...          ...        ...        ...       ...\n",
       "2022-05-01  37820.611765  2738.174136  78.702627  85.302984  0.758064\n",
       "2022-05-02  38537.654767  2832.513107  82.316205  89.738346  0.790253\n",
       "2022-05-03  38561.565399  2861.372376  84.453673  87.604985  0.783051\n",
       "2022-05-04  37758.496108  2786.047248  82.669064  85.881132  0.772803\n",
       "2022-05-05  39699.024041  2942.052313  86.136037  92.820618  0.895928\n",
       "\n",
       "[1833 rows x 5 columns]"
      ]
     },
     "execution_count": 21,
     "metadata": {},
     "output_type": "execute_result"
    }
   ],
   "source": [
    "crypto_df"
   ]
  },
  {
   "cell_type": "markdown",
   "id": "a0950e29",
   "metadata": {},
   "source": [
    "## Stock Price 5 Years Ago"
   ]
  },
  {
   "cell_type": "code",
   "execution_count": 22,
   "id": "1e2f75e9",
   "metadata": {},
   "outputs": [],
   "source": [
    "# Stock price from 5 years ago\n",
    "aapl_open = stock_df['AAPL']['open']\n",
    "\n",
    "aapl_open_2017_05_05 = aapl_open.iloc[0:10]"
   ]
  },
  {
   "cell_type": "code",
   "execution_count": 23,
   "id": "e1da4a0c",
   "metadata": {},
   "outputs": [
    {
     "data": {
      "text/plain": [
       "2017-05-05    146.76\n",
       "2017-05-08    149.03\n",
       "2017-05-09    153.88\n",
       "2017-05-10    153.63\n",
       "2017-05-11    152.69\n",
       "2017-05-12    155.00\n",
       "2017-05-15    156.01\n",
       "2017-05-16    156.00\n",
       "2017-05-17    153.94\n",
       "2017-05-18    151.25\n",
       "Name: open, dtype: float64"
      ]
     },
     "execution_count": 23,
     "metadata": {},
     "output_type": "execute_result"
    }
   ],
   "source": [
    "aapl_open_2017_05_05"
   ]
  },
  {
   "cell_type": "code",
   "execution_count": null,
   "id": "b76c25f8",
   "metadata": {},
   "outputs": [],
   "source": []
  }
 ],
 "metadata": {
  "kernelspec": {
   "display_name": "Python 3 (ipykernel)",
   "language": "python",
   "name": "python3"
  },
  "language_info": {
   "codemirror_mode": {
    "name": "ipython",
    "version": 3
   },
   "file_extension": ".py",
   "mimetype": "text/x-python",
   "name": "python",
   "nbconvert_exporter": "python",
   "pygments_lexer": "ipython3",
   "version": "3.7.11"
  }
 },
 "nbformat": 4,
 "nbformat_minor": 5
}
