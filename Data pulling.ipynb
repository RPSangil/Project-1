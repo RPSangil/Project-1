{
 "cells": [
  {
   "cell_type": "code",
   "execution_count": 39,
   "id": "a3168369",
   "metadata": {},
   "outputs": [],
   "source": [
    "# Initial imports\n",
    "import os\n",
    "import requests\n",
    "import pandas as pd\n",
    "from dotenv import load_dotenv\n",
    "import alpaca_trade_api as tradeapi\n",
    "import csv\n",
    "import json\n",
    "import plotly.express as px\n",
    "import hvplot.pandas\n",
    "import matplotlib.pyplot as plt\n",
    "from datetime import datetime, timezone\n"
   ]
  },
  {
   "cell_type": "code",
   "execution_count": 15,
   "id": "b2cf18f4",
   "metadata": {},
   "outputs": [
    {
     "data": {
      "text/plain": [
       "True"
      ]
     },
     "execution_count": 15,
     "metadata": {},
     "output_type": "execute_result"
    }
   ],
   "source": [
    "# Load .env variables\n",
    "load_dotenv()"
   ]
  },
  {
   "cell_type": "markdown",
   "id": "482533b5",
   "metadata": {},
   "source": [
    "## Fetching Stock Data"
   ]
  },
  {
   "cell_type": "code",
   "execution_count": 16,
   "id": "027afb0f",
   "metadata": {},
   "outputs": [],
   "source": []
  },
  {
   "cell_type": "code",
   "execution_count": 17,
   "id": "35f0cef0",
   "metadata": {},
   "outputs": [
    {
     "name": "stdout",
     "output_type": "stream",
     "text": [
      "<class 'NoneType'>\n",
      "<class 'NoneType'>\n"
     ]
    }
   ],
   "source": []
  },
  {
   "cell_type": "code",
   "execution_count": 18,
   "id": "5f98a0c3",
   "metadata": {},
   "outputs": [
    {
     "ename": "ValueError",
     "evalue": "('Key ID must be given to access Alpaca trade API', ' (env: APCA_API_KEY_ID)')",
     "output_type": "error",
     "traceback": [
      "\u001b[1;31m---------------------------------------------------------------------------\u001b[0m",
      "\u001b[1;31mValueError\u001b[0m                                Traceback (most recent call last)",
      "Input \u001b[1;32mIn [18]\u001b[0m, in \u001b[0;36m<cell line: 2>\u001b[1;34m()\u001b[0m\n\u001b[0;32m      1\u001b[0m \u001b[38;5;66;03m# Create alpaca API object\u001b[39;00m\n\u001b[1;32m----> 2\u001b[0m api \u001b[38;5;241m=\u001b[39m \u001b[43mtradeapi\u001b[49m\u001b[38;5;241;43m.\u001b[39;49m\u001b[43mREST\u001b[49m\u001b[43m(\u001b[49m\n\u001b[0;32m      3\u001b[0m \u001b[43m    \u001b[49m\u001b[43malpaca_key\u001b[49m\u001b[43m,\u001b[49m\n\u001b[0;32m      4\u001b[0m \u001b[43m    \u001b[49m\u001b[43malpaca_priv_key\u001b[49m\u001b[43m,\u001b[49m\n\u001b[0;32m      5\u001b[0m \u001b[43m    \u001b[49m\u001b[43mapi_version\u001b[49m\u001b[43m \u001b[49m\u001b[38;5;241;43m=\u001b[39;49m\u001b[43m \u001b[49m\u001b[38;5;124;43m'\u001b[39;49m\u001b[38;5;124;43mv2\u001b[39;49m\u001b[38;5;124;43m'\u001b[39;49m\u001b[43m)\u001b[49m\n",
      "File \u001b[1;32m~\\anaconda3\\lib\\site-packages\\alpaca_trade_api\\rest.py:168\u001b[0m, in \u001b[0;36mREST.__init__\u001b[1;34m(self, key_id, secret_key, base_url, api_version, oauth, raw_data)\u001b[0m\n\u001b[0;32m    156\u001b[0m \u001b[38;5;28;01mdef\u001b[39;00m \u001b[38;5;21m__init__\u001b[39m(\u001b[38;5;28mself\u001b[39m,\n\u001b[0;32m    157\u001b[0m              key_id: \u001b[38;5;28mstr\u001b[39m \u001b[38;5;241m=\u001b[39m \u001b[38;5;28;01mNone\u001b[39;00m,\n\u001b[0;32m    158\u001b[0m              secret_key: \u001b[38;5;28mstr\u001b[39m \u001b[38;5;241m=\u001b[39m \u001b[38;5;28;01mNone\u001b[39;00m,\n\u001b[1;32m   (...)\u001b[0m\n\u001b[0;32m    162\u001b[0m              raw_data: \u001b[38;5;28mbool\u001b[39m \u001b[38;5;241m=\u001b[39m \u001b[38;5;28;01mFalse\u001b[39;00m\n\u001b[0;32m    163\u001b[0m              ):\n\u001b[0;32m    164\u001b[0m     \u001b[38;5;124;03m\"\"\"\u001b[39;00m\n\u001b[0;32m    165\u001b[0m \u001b[38;5;124;03m    :param raw_data: should we return api response raw or wrap it with\u001b[39;00m\n\u001b[0;32m    166\u001b[0m \u001b[38;5;124;03m                     Entity objects.\u001b[39;00m\n\u001b[0;32m    167\u001b[0m \u001b[38;5;124;03m    \"\"\"\u001b[39;00m\n\u001b[1;32m--> 168\u001b[0m     \u001b[38;5;28mself\u001b[39m\u001b[38;5;241m.\u001b[39m_key_id, \u001b[38;5;28mself\u001b[39m\u001b[38;5;241m.\u001b[39m_secret_key, \u001b[38;5;28mself\u001b[39m\u001b[38;5;241m.\u001b[39m_oauth \u001b[38;5;241m=\u001b[39m \u001b[43mget_credentials\u001b[49m\u001b[43m(\u001b[49m\n\u001b[0;32m    169\u001b[0m \u001b[43m        \u001b[49m\u001b[43mkey_id\u001b[49m\u001b[43m,\u001b[49m\u001b[43m \u001b[49m\u001b[43msecret_key\u001b[49m\u001b[43m,\u001b[49m\u001b[43m \u001b[49m\u001b[43moauth\u001b[49m\u001b[43m)\u001b[49m\n\u001b[0;32m    170\u001b[0m     \u001b[38;5;28mself\u001b[39m\u001b[38;5;241m.\u001b[39m_base_url: URL \u001b[38;5;241m=\u001b[39m URL(base_url \u001b[38;5;129;01mor\u001b[39;00m get_base_url())\n\u001b[0;32m    171\u001b[0m     \u001b[38;5;28mself\u001b[39m\u001b[38;5;241m.\u001b[39m_api_version \u001b[38;5;241m=\u001b[39m get_api_version(api_version)\n",
      "File \u001b[1;32m~\\anaconda3\\lib\\site-packages\\alpaca_trade_api\\common.py:84\u001b[0m, in \u001b[0;36mget_credentials\u001b[1;34m(key_id, secret_key, oauth)\u001b[0m\n\u001b[0;32m     82\u001b[0m key_id \u001b[38;5;241m=\u001b[39m key_id \u001b[38;5;129;01mor\u001b[39;00m os\u001b[38;5;241m.\u001b[39menviron\u001b[38;5;241m.\u001b[39mget(\u001b[38;5;124m'\u001b[39m\u001b[38;5;124mAPCA_API_KEY_ID\u001b[39m\u001b[38;5;124m'\u001b[39m)\n\u001b[0;32m     83\u001b[0m \u001b[38;5;28;01mif\u001b[39;00m key_id \u001b[38;5;129;01mis\u001b[39;00m \u001b[38;5;28;01mNone\u001b[39;00m \u001b[38;5;129;01mand\u001b[39;00m oauth \u001b[38;5;129;01mis\u001b[39;00m \u001b[38;5;28;01mNone\u001b[39;00m:\n\u001b[1;32m---> 84\u001b[0m     \u001b[38;5;28;01mraise\u001b[39;00m \u001b[38;5;167;01mValueError\u001b[39;00m(\u001b[38;5;124m'\u001b[39m\u001b[38;5;124mKey ID must be given to access Alpaca trade API\u001b[39m\u001b[38;5;124m'\u001b[39m,\n\u001b[0;32m     85\u001b[0m                      \u001b[38;5;124m'\u001b[39m\u001b[38;5;124m (env: APCA_API_KEY_ID)\u001b[39m\u001b[38;5;124m'\u001b[39m)\n\u001b[0;32m     87\u001b[0m secret_key \u001b[38;5;241m=\u001b[39m secret_key \u001b[38;5;129;01mor\u001b[39;00m os\u001b[38;5;241m.\u001b[39menviron\u001b[38;5;241m.\u001b[39mget(\u001b[38;5;124m'\u001b[39m\u001b[38;5;124mAPCA_API_SECRET_KEY\u001b[39m\u001b[38;5;124m'\u001b[39m)\n\u001b[0;32m     88\u001b[0m \u001b[38;5;28;01mif\u001b[39;00m secret_key \u001b[38;5;129;01mis\u001b[39;00m \u001b[38;5;28;01mNone\u001b[39;00m \u001b[38;5;129;01mand\u001b[39;00m oauth \u001b[38;5;129;01mis\u001b[39;00m \u001b[38;5;28;01mNone\u001b[39;00m:\n",
      "\u001b[1;31mValueError\u001b[0m: ('Key ID must be given to access Alpaca trade API', ' (env: APCA_API_KEY_ID)')"
     ]
    }
   ],
   "source": []
  },
  {
   "cell_type": "code",
   "execution_count": 40,
   "id": "af00fb39",
   "metadata": {},
   "outputs": [],
   "source": [
    "# Create parameters to be used in data pulling\n",
    "start = pd.Timestamp('2017-05-05', tz='America/New_York').isoformat()\n",
    "end = pd.Timestamp('2022-05-05', tz='America/New_York').isoformat()\n",
    "tickers = ['AAPL', 'MSFT', 'AMZN' , 'TSLA', 'GOOGL']\n",
    "timeframe = '1Day'"
   ]
  },
  {
   "cell_type": "code",
   "execution_count": 20,
   "id": "47c20639",
   "metadata": {},
   "outputs": [
    {
     "ename": "NameError",
     "evalue": "name 'api' is not defined",
     "output_type": "error",
     "traceback": [
      "\u001b[1;31m---------------------------------------------------------------------------\u001b[0m",
      "\u001b[1;31mNameError\u001b[0m                                 Traceback (most recent call last)",
      "Input \u001b[1;32mIn [20]\u001b[0m, in \u001b[0;36m<cell line: 2>\u001b[1;34m()\u001b[0m\n\u001b[0;32m      1\u001b[0m \u001b[38;5;66;03m# Pull data\u001b[39;00m\n\u001b[1;32m----> 2\u001b[0m stock_pulled_df \u001b[38;5;241m=\u001b[39m \u001b[43mapi\u001b[49m\u001b[38;5;241m.\u001b[39mget_bars(\n\u001b[0;32m      3\u001b[0m     tickers,\n\u001b[0;32m      4\u001b[0m     timeframe,\n\u001b[0;32m      5\u001b[0m     start \u001b[38;5;241m=\u001b[39m start,\n\u001b[0;32m      6\u001b[0m     end \u001b[38;5;241m=\u001b[39m end\n\u001b[0;32m      7\u001b[0m )\u001b[38;5;241m.\u001b[39mdf\n",
      "\u001b[1;31mNameError\u001b[0m: name 'api' is not defined"
     ]
    }
   ],
   "source": [
    "# Pull data\n",
    "stock_pulled_df = api.get_bars(\n",
    "    tickers,\n",
    "    timeframe,\n",
    "    start = start,\n",
    "    end = end\n",
    ").df"
   ]
  },
  {
   "cell_type": "code",
   "execution_count": 21,
   "id": "041dfb7e",
   "metadata": {},
   "outputs": [
    {
     "ename": "NameError",
     "evalue": "name 'stock_pulled_df' is not defined",
     "output_type": "error",
     "traceback": [
      "\u001b[1;31m---------------------------------------------------------------------------\u001b[0m",
      "\u001b[1;31mNameError\u001b[0m                                 Traceback (most recent call last)",
      "Input \u001b[1;32mIn [21]\u001b[0m, in \u001b[0;36m<cell line: 2>\u001b[1;34m()\u001b[0m\n\u001b[0;32m      1\u001b[0m \u001b[38;5;66;03m# Preview dataframe\u001b[39;00m\n\u001b[1;32m----> 2\u001b[0m \u001b[43mstock_pulled_df\u001b[49m\n",
      "\u001b[1;31mNameError\u001b[0m: name 'stock_pulled_df' is not defined"
     ]
    }
   ],
   "source": [
    "# Preview dataframe\n",
    "stock_pulled_df"
   ]
  },
  {
   "cell_type": "code",
   "execution_count": 22,
   "id": "860e14df",
   "metadata": {},
   "outputs": [
    {
     "ename": "NameError",
     "evalue": "name 'stock_pulled_df' is not defined",
     "output_type": "error",
     "traceback": [
      "\u001b[1;31m---------------------------------------------------------------------------\u001b[0m",
      "\u001b[1;31mNameError\u001b[0m                                 Traceback (most recent call last)",
      "Input \u001b[1;32mIn [22]\u001b[0m, in \u001b[0;36m<cell line: 5>\u001b[1;34m()\u001b[0m\n\u001b[0;32m      2\u001b[0m drop_list \u001b[38;5;241m=\u001b[39m [\u001b[38;5;124m'\u001b[39m\u001b[38;5;124mopen\u001b[39m\u001b[38;5;124m'\u001b[39m, \u001b[38;5;124m'\u001b[39m\u001b[38;5;124mvwap\u001b[39m\u001b[38;5;124m'\u001b[39m, \u001b[38;5;124m'\u001b[39m\u001b[38;5;124mhigh\u001b[39m\u001b[38;5;124m'\u001b[39m, \u001b[38;5;124m'\u001b[39m\u001b[38;5;124mlow\u001b[39m\u001b[38;5;124m'\u001b[39m, \u001b[38;5;124m'\u001b[39m\u001b[38;5;124mvolume\u001b[39m\u001b[38;5;124m'\u001b[39m, \u001b[38;5;124m'\u001b[39m\u001b[38;5;124mtrade_count\u001b[39m\u001b[38;5;124m'\u001b[39m, \u001b[38;5;124m'\u001b[39m\u001b[38;5;124msymbol\u001b[39m\u001b[38;5;124m'\u001b[39m]\n\u001b[0;32m      4\u001b[0m \u001b[38;5;66;03m# Slice dataframe and drop columns\u001b[39;00m\n\u001b[1;32m----> 5\u001b[0m aapl \u001b[38;5;241m=\u001b[39m \u001b[43mstock_pulled_df\u001b[49m[stock_pulled_df[\u001b[38;5;124m'\u001b[39m\u001b[38;5;124msymbol\u001b[39m\u001b[38;5;124m'\u001b[39m]\u001b[38;5;241m==\u001b[39m\u001b[38;5;124m'\u001b[39m\u001b[38;5;124mAAPL\u001b[39m\u001b[38;5;124m'\u001b[39m]\u001b[38;5;241m.\u001b[39mdrop(drop_list, axis\u001b[38;5;241m=\u001b[39m\u001b[38;5;241m1\u001b[39m)\n\u001b[0;32m      6\u001b[0m msft \u001b[38;5;241m=\u001b[39m stock_pulled_df[stock_pulled_df[\u001b[38;5;124m'\u001b[39m\u001b[38;5;124msymbol\u001b[39m\u001b[38;5;124m'\u001b[39m]\u001b[38;5;241m==\u001b[39m\u001b[38;5;124m'\u001b[39m\u001b[38;5;124mMSFT\u001b[39m\u001b[38;5;124m'\u001b[39m]\u001b[38;5;241m.\u001b[39mdrop(drop_list, axis\u001b[38;5;241m=\u001b[39m\u001b[38;5;241m1\u001b[39m)\n\u001b[0;32m      7\u001b[0m amzn \u001b[38;5;241m=\u001b[39m stock_pulled_df[stock_pulled_df[\u001b[38;5;124m'\u001b[39m\u001b[38;5;124msymbol\u001b[39m\u001b[38;5;124m'\u001b[39m]\u001b[38;5;241m==\u001b[39m\u001b[38;5;124m'\u001b[39m\u001b[38;5;124mAMZN\u001b[39m\u001b[38;5;124m'\u001b[39m]\u001b[38;5;241m.\u001b[39mdrop(drop_list, axis\u001b[38;5;241m=\u001b[39m\u001b[38;5;241m1\u001b[39m)\n",
      "\u001b[1;31mNameError\u001b[0m: name 'stock_pulled_df' is not defined"
     ]
    }
   ],
   "source": [
    "# Create a list of columns needed to be removed\n",
    "drop_list = ['open', 'vwap', 'high', 'low', 'volume', 'trade_count', 'symbol']\n",
    "\n",
    "# Slice dataframe and drop columns\n",
    "aapl = stock_pulled_df[stock_pulled_df['symbol']=='AAPL'].drop(drop_list, axis=1)\n",
    "msft = stock_pulled_df[stock_pulled_df['symbol']=='MSFT'].drop(drop_list, axis=1)\n",
    "amzn = stock_pulled_df[stock_pulled_df['symbol']=='AMZN'].drop(drop_list, axis=1)\n",
    "tsla = stock_pulled_df[stock_pulled_df['symbol']=='TSLA'].drop(drop_list, axis=1)\n",
    "googl = stock_pulled_df[stock_pulled_df['symbol']=='GOOGL'].drop(drop_list, axis=1)\n",
    "\n",
    "# Concatenate sliced data into new dataframe\n",
    "stock_df = pd.concat(\n",
    "    [aapl, msft, amzn, tsla, googl],\n",
    "    axis=1,\n",
    "    keys=['AAPL', 'MSFT', 'AMZN', 'TSLA', 'GOOGL']\n",
    ")\n",
    "\n",
    "# Index dataframe by date\n",
    "stock_df.index=stock_df.index.date\n",
    "\n",
    "# Drop any Null values\n",
    "stock_df.dropna()"
   ]
  },
  {
   "cell_type": "markdown",
   "id": "4ac3b47d",
   "metadata": {},
   "source": [
    "## Fetching Crypto Data"
   ]
  },
  {
   "cell_type": "code",
   "execution_count": 23,
   "id": "a3d890ec",
   "metadata": {},
   "outputs": [],
   "source": [
    "# Defining URLs\n",
    "btc_url = 'https://api.coingecko.com/api/v3/coins/bitcoin/market_chart/range?vs_currency=usd&from=1493906401&to=1651759199'\n",
    "eth_url = 'https://api.coingecko.com/api/v3/coins/ethereum/market_chart/range?vs_currency=usd&from=1493906401&to=1651759199'\n",
    "ltc_url = 'https://api.coingecko.com/api/v3/coins/litecoin/market_chart/range?vs_currency=usd&from=1493906401&to=1651759199'\n",
    "xrp_url = 'https://api.coingecko.com/api/v3/coins/ripple/market_chart/range?vs_currency=usd&from=1493906401&to=1651759199'\n",
    "ada_url = 'https://api.coingecko.com/api/v3/coins/cardano/market_chart/range?vs_currency=usd&from=1493906401&to=1651759199'"
   ]
  },
  {
   "cell_type": "code",
   "execution_count": 24,
   "id": "b50141bc",
   "metadata": {},
   "outputs": [],
   "source": [
    "# Perform GET request to pull data for cryptos\n",
    "btc_request = requests.get(btc_url)\n",
    "eth_request = requests.get(eth_url)\n",
    "ltc_request = requests.get(ltc_url)\n",
    "xrp_request = requests.get(xrp_url)\n",
    "ada_request = requests.get(ada_url)"
   ]
  },
  {
   "cell_type": "code",
   "execution_count": 25,
   "id": "cb342839",
   "metadata": {},
   "outputs": [],
   "source": [
    "# Convert pulled data into json\n",
    "btc_request = btc_request.json()\n",
    "eth_request = eth_request.json()\n",
    "ltc_request = ltc_request.json()\n",
    "xrp_request = xrp_request.json()\n",
    "ada_request = ada_request.json()"
   ]
  },
  {
   "cell_type": "code",
   "execution_count": 26,
   "id": "ded9addd",
   "metadata": {},
   "outputs": [],
   "source": [
    "# Create and organize dataframes for cryptos\n",
    "btc_df = pd.DataFrame(btc_request['prices'])\n",
    "eth_df = pd.DataFrame(eth_request['prices'])\n",
    "ltc_df = pd.DataFrame(ltc_request['prices'])\n",
    "xrp_df = pd.DataFrame(xrp_request['prices'])\n",
    "ada_df = pd.DataFrame(ada_request['prices'])"
   ]
  },
  {
   "cell_type": "code",
   "execution_count": 27,
   "id": "cb510e41",
   "metadata": {},
   "outputs": [],
   "source": [
    "# Rename columns\n",
    "btc_df.rename(columns = {0 : 'Date', 1 : 'Price'}, inplace=True)\n",
    "eth_df.rename(columns = {0 : 'Date', 1 : 'Price'}, inplace=True)\n",
    "ltc_df.rename(columns = {0 : 'Date', 1 : 'Price'}, inplace=True)\n",
    "xrp_df.rename(columns = {0 : 'Date', 1 : 'Price'}, inplace=True)\n",
    "ada_df.rename(columns = {0 : 'Date', 1 : 'Price'}, inplace=True)"
   ]
  },
  {
   "cell_type": "code",
   "execution_count": 28,
   "id": "b4e12a90",
   "metadata": {},
   "outputs": [],
   "source": [
    "# Convert unix time format into traditonal date format\n",
    "btc_df['date'] = pd.to_datetime(btc_df['Date'], unit='ms')\n",
    "eth_df['date'] = pd.to_datetime(eth_df['Date'], unit='ms')\n",
    "ltc_df['date'] = pd.to_datetime(ltc_df['Date'], unit='ms')\n",
    "xrp_df['date'] = pd.to_datetime(xrp_df['Date'], unit='ms')\n",
    "ada_df['date'] = pd.to_datetime(ada_df['Date'], unit='ms')"
   ]
  },
  {
   "cell_type": "code",
   "execution_count": 29,
   "id": "7eccc45d",
   "metadata": {},
   "outputs": [],
   "source": [
    "# Set new date format as index\n",
    "btc_df.set_index('date', inplace=True)\n",
    "eth_df.set_index('date', inplace=True)\n",
    "ltc_df.set_index('date', inplace=True)\n",
    "xrp_df.set_index('date', inplace=True)\n",
    "ada_df.set_index('date', inplace=True)"
   ]
  },
  {
   "cell_type": "code",
   "execution_count": 30,
   "id": "7ffddbd7",
   "metadata": {},
   "outputs": [],
   "source": [
    "# Drop unix column\n",
    "btc_df.drop(['Date'], axis=1, inplace=True)\n",
    "eth_df.drop(['Date'], axis=1, inplace=True)\n",
    "ltc_df.drop(['Date'], axis=1, inplace=True)\n",
    "xrp_df.drop(['Date'], axis=1, inplace=True)\n",
    "ada_df.drop(['Date'], axis=1, inplace=True)"
   ]
  },
  {
   "cell_type": "code",
   "execution_count": 31,
   "id": "331991b7",
   "metadata": {},
   "outputs": [],
   "source": [
    "# Concatenate crypto dataframes\n",
    "crypto_df = pd.concat(\n",
    "    [btc_df, eth_df, ltc_df, xrp_df, ada_df],\n",
    "    axis=1,\n",
    "    keys=['BTC', 'ETH', 'LTC',  'XRP', 'ADA']\n",
    ")"
   ]
  },
  {
   "cell_type": "code",
   "execution_count": 32,
   "id": "f4227d6e",
   "metadata": {},
   "outputs": [
    {
     "ename": "NameError",
     "evalue": "name 'stock_df' is not defined",
     "output_type": "error",
     "traceback": [
      "\u001b[1;31m---------------------------------------------------------------------------\u001b[0m",
      "\u001b[1;31mNameError\u001b[0m                                 Traceback (most recent call last)",
      "Input \u001b[1;32mIn [32]\u001b[0m, in \u001b[0;36m<cell line: 2>\u001b[1;34m()\u001b[0m\n\u001b[0;32m      1\u001b[0m \u001b[38;5;66;03m# Concatenate crypto and stock data\u001b[39;00m\n\u001b[0;32m      2\u001b[0m combined_investments \u001b[38;5;241m=\u001b[39m pd\u001b[38;5;241m.\u001b[39mconcat(\n\u001b[1;32m----> 3\u001b[0m     [crypto_df, \u001b[43mstock_df\u001b[49m],\n\u001b[0;32m      4\u001b[0m     axis\u001b[38;5;241m=\u001b[39m\u001b[38;5;241m1\u001b[39m,\n\u001b[0;32m      5\u001b[0m     keys\u001b[38;5;241m=\u001b[39m[\u001b[38;5;124m'\u001b[39m\u001b[38;5;124mCrypto Data\u001b[39m\u001b[38;5;124m'\u001b[39m, \u001b[38;5;124m'\u001b[39m\u001b[38;5;124mStock Data\u001b[39m\u001b[38;5;124m'\u001b[39m]\n\u001b[0;32m      6\u001b[0m )\n\u001b[0;32m      8\u001b[0m \u001b[38;5;66;03m# Save data to csv\u001b[39;00m\n\u001b[0;32m      9\u001b[0m combined_investments\u001b[38;5;241m.\u001b[39mto_csv(\u001b[38;5;124m'\u001b[39m\u001b[38;5;124mData_files/combined_investments.csv\u001b[39m\u001b[38;5;124m'\u001b[39m)\n",
      "\u001b[1;31mNameError\u001b[0m: name 'stock_df' is not defined"
     ]
    }
   ],
   "source": [
    "# Concatenate crypto and stock data\n",
    "combined_investments = pd.concat(\n",
    "    [crypto_df, stock_df],\n",
    "    axis=1,\n",
    "    keys=['Crypto Data', 'Stock Data']\n",
    ")\n",
    "\n",
    "# Save data to csv\n",
    "combined_investments.to_csv('Data_files/combined_investments.csv')"
   ]
  },
  {
   "cell_type": "markdown",
   "id": "fd48fc0a",
   "metadata": {},
   "source": [
    "## Stock Price 5 Years Ago"
   ]
  },
  {
   "cell_type": "code",
   "execution_count": null,
   "id": "d324862c",
   "metadata": {},
   "outputs": [],
   "source": [
    "# Stock price from 5 years ago\n",
    "aapl_close = stock_df['AAPL']['close']\n",
    "\n",
    "aapl_close_2017_05_05 = aapl_close.iloc[0:1]"
   ]
  },
  {
   "cell_type": "code",
   "execution_count": null,
   "id": "5c87f621",
   "metadata": {},
   "outputs": [],
   "source": [
    "aapl_close_2017_05_05"
   ]
  },
  {
   "cell_type": "code",
   "execution_count": null,
   "id": "dec9083a",
   "metadata": {},
   "outputs": [],
   "source": []
  },
  {
   "cell_type": "markdown",
   "id": "c55259b2",
   "metadata": {},
   "source": [
    "## Calculate daily and cumulative returns"
   ]
  },
  {
   "cell_type": "code",
   "execution_count": null,
   "id": "a43c72d1",
   "metadata": {},
   "outputs": [],
   "source": [
    "# Calculate daily returns for stock\n",
    "stock_daily_returns = stock_df.pct_change()\n",
    "\n",
    "# Rename columns\n",
    "stock_daily_returns.rename(columns = {'close' : 'Daily Return'}, inplace=True)"
   ]
  },
  {
   "cell_type": "code",
   "execution_count": null,
   "id": "988a0986",
   "metadata": {},
   "outputs": [],
   "source": [
    "# Calculate daily returns for stock\n",
    "crypto_daily_returns = crypto_df.pct_change()\n",
    "\n",
    "# Rename columns\n",
    "crypto_daily_returns.rename(columns = {'Price' : 'Daily Return'}, inplace=True)"
   ]
  },
  {
   "cell_type": "code",
   "execution_count": null,
   "id": "969c6ed8",
   "metadata": {},
   "outputs": [],
   "source": [
    "# Create merged dataframe for stock and crypto\n",
    "daily_returns = pd.merge(\n",
    "    crypto_daily_returns, \n",
    "    stock_daily_returns, \n",
    "    left_index=True, \n",
    "    right_index=True)\n",
    "\n",
    "# Save csv file\n",
    "daily_returns.to_csv('Data_files/daily_returns.csv')"
   ]
  },
  {
   "cell_type": "code",
   "execution_count": null,
   "id": "06e1d820",
   "metadata": {},
   "outputs": [],
   "source": [
    "# Calculate cumulative daily returns\n",
    "cumulative_returns = (1 + daily_returns).cumprod()\n",
    "cumulative_returns.to_csv('Data_files/cumulative_returns.csv')"
   ]
  },
  {
   "cell_type": "markdown",
   "id": "4bdb8652",
   "metadata": {},
   "source": [
    "## Conduct Quantitative Analysis\n",
    "In this section, you will calculate and visualize performance and risk metrics for the portfolios.\n"
   ]
  },
  {
   "cell_type": "code",
   "execution_count": null,
   "id": "05406c0b",
   "metadata": {},
   "outputs": [],
   "source": []
  },
  {
   "cell_type": "code",
   "execution_count": null,
   "id": "2210daa3",
   "metadata": {},
   "outputs": [],
   "source": []
  },
  {
   "cell_type": "code",
   "execution_count": null,
   "id": "8d630f8c",
   "metadata": {},
   "outputs": [],
   "source": []
  },
  {
   "cell_type": "markdown",
   "id": "c64169b0",
   "metadata": {},
   "source": [
    "## Performance Analysis\n",
    "Calculate and Plot the daily returns.\n"
   ]
  },
  {
   "cell_type": "code",
   "execution_count": 38,
   "id": "e37dd162",
   "metadata": {},
   "outputs": [
    {
     "ename": "SyntaxError",
     "evalue": "invalid syntax (1284855473.py, line 6)",
     "output_type": "error",
     "traceback": [
      "\u001b[1;36m  Input \u001b[1;32mIn [38]\u001b[1;36m\u001b[0m\n\u001b[1;33m    (event)cumulative_returns = (1 + daily_returns).cumprod()\u001b[0m\n\u001b[1;37m           ^\u001b[0m\n\u001b[1;31mSyntaxError\u001b[0m\u001b[1;31m:\u001b[0m invalid syntax\n"
     ]
    }
   ],
   "source": [
    "cumulative_returns.plot(\n",
    "    kind='line',\n",
    "    figsize=(15,15)\n",
    ")\n",
    "\n",
    "\n",
    "#create a new graphs useing same data\n",
    "covid_cumulative_returns = (1 + daily_returns).cumprod()\n",
    "covid_cumulative_returns.to_csv('Data_files/cumulative_returns.csv')\n",
    "\n",
    "#cut graph to show only specific range of dates\n",
    "covid_cumulative_returns.set_xlim(\"2019-01-01\", \"2022-05-05\")\n",
    "\n",
    "#add markers on graph line for events (possibly not use as multiple y axis)\n",
    "covid_cumulative_returns.text(\n",
    "date, yaxis, \"this went boom (date, yaxis)\")\n",
    "covid_cumulative_returns.text(\n",
    "date2, yaxis2, \"this went boom2 (date2, yaxis2)\")\n",
    "\n",
    "#to show context \"zoom out\" with colour showing area (consider specific date coloured section to act as marker?)\n",
    "plt.axvspan(\"2019-01-01\", \"2022-05-05\", color='red', alpha=0.5)"
   ]
  },
  {
   "cell_type": "code",
   "execution_count": null,
   "id": "77085e4f",
   "metadata": {},
   "outputs": [],
   "source": []
  },
  {
   "cell_type": "code",
   "execution_count": null,
   "id": "661fb7c4",
   "metadata": {},
   "outputs": [],
   "source": []
  },
  {
   "cell_type": "code",
   "execution_count": null,
   "id": "2be09834",
   "metadata": {},
   "outputs": [],
   "source": []
  },
  {
   "cell_type": "code",
   "execution_count": null,
   "id": "df590f82",
   "metadata": {},
   "outputs": [],
   "source": []
  },
  {
   "cell_type": "code",
   "execution_count": null,
   "id": "7ece3158",
   "metadata": {},
   "outputs": [],
   "source": []
  },
  {
   "cell_type": "code",
   "execution_count": null,
   "id": "7fbaf746",
   "metadata": {},
   "outputs": [],
   "source": []
  },
  {
   "cell_type": "code",
   "execution_count": null,
   "id": "e952e374",
   "metadata": {},
   "outputs": [],
   "source": []
  },
  {
   "cell_type": "code",
   "execution_count": null,
   "id": "b80e2676",
   "metadata": {},
   "outputs": [],
   "source": []
  },
  {
   "cell_type": "code",
   "execution_count": null,
   "id": "dd084cbe",
   "metadata": {},
   "outputs": [],
   "source": []
  },
  {
   "cell_type": "code",
   "execution_count": null,
   "id": "1147f066",
   "metadata": {},
   "outputs": [],
   "source": []
  },
  {
   "cell_type": "code",
   "execution_count": null,
   "id": "5c6da042",
   "metadata": {},
   "outputs": [],
   "source": []
  },
  {
   "cell_type": "code",
   "execution_count": null,
   "id": "34f842d8",
   "metadata": {},
   "outputs": [],
   "source": []
  }
 ],
 "metadata": {
  "kernelspec": {
   "display_name": "Python 3 (ipykernel)",
   "language": "python",
   "name": "python3"
  },
  "language_info": {
   "codemirror_mode": {
    "name": "ipython",
    "version": 3
   },
   "file_extension": ".py",
   "mimetype": "text/x-python",
   "name": "python",
   "nbconvert_exporter": "python",
   "pygments_lexer": "ipython3",
   "version": "3.9.7"
  }
 },
 "nbformat": 4,
 "nbformat_minor": 5
}
