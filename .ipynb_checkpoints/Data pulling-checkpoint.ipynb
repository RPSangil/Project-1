{
 "cells": [
  {
   "cell_type": "code",
   "execution_count": 1,
   "id": "45162ce2",
   "metadata": {},
   "outputs": [],
   "source": [
    "# Initial imports\n",
    "import os\n",
    "import requests\n",
    "import pandas as pd\n",
    "from dotenv import load_dotenv\n",
    "import alpaca_trade_api as tradeapi\n",
    "import csv\n",
    "import json\n",
    "from requests import Request, Session\n",
    "from requests.exceptions import ConnectionError, Timeout, TooManyRedirects\n",
    "from datetime import datetime, timezone"
   ]
  },
  {
   "cell_type": "code",
   "execution_count": 2,
   "id": "df8a4b65",
   "metadata": {},
   "outputs": [
    {
     "data": {
      "text/plain": [
       "True"
      ]
     },
     "execution_count": 2,
     "metadata": {},
     "output_type": "execute_result"
    }
   ],
   "source": [
    "# Load .env variables\n",
    "load_dotenv()"
   ]
  },
  {
   "cell_type": "markdown",
   "id": "6d3fedb7",
   "metadata": {},
   "source": [
    "## Fetching Stock Data"
   ]
  },
  {
   "cell_type": "code",
   "execution_count": 3,
   "id": "c1d528fd",
   "metadata": {},
   "outputs": [],
   "source": [
    "# Set Alpaca API key and secret key\n",
    "alpaca_key = os.getenv('ALPACA_API_KEY')\n",
    "alpaca_priv_key = os.getenv('ALPACA_SECRET_KEY')"
   ]
  },
  {
   "cell_type": "code",
   "execution_count": 4,
   "id": "bf6131ba",
   "metadata": {},
   "outputs": [
    {
     "name": "stdout",
     "output_type": "stream",
     "text": [
      "<class 'str'>\n",
      "<class 'str'>\n"
     ]
    }
   ],
   "source": [
    "# Check data types to ensure key imports were successful\n",
    "print(type(alpaca_key))\n",
    "print(type(alpaca_priv_key))"
   ]
  },
  {
   "cell_type": "code",
   "execution_count": 5,
   "id": "04317760",
   "metadata": {},
   "outputs": [],
   "source": [
    "# Create alpaca API object\n",
    "api = tradeapi.REST(\n",
    "    alpaca_key,\n",
    "    alpaca_priv_key,\n",
    "    api_version = 'v2')"
   ]
  },
  {
   "cell_type": "code",
   "execution_count": 6,
   "id": "f7919bae",
   "metadata": {},
   "outputs": [],
   "source": [
    "# Create parameters to be used in data pulling\n",
    "start = pd.Timestamp('2017-05-05', tz='America/New_York').isoformat()\n",
    "end = pd.Timestamp('2022-05-05', tz='America/New_York').isoformat()\n",
    "tickers = ['AAPL', 'MSFT', 'AMZN' , 'TSLA', 'GOOGL']\n",
    "timeframe = '1Day'"
   ]
  },
  {
   "cell_type": "code",
   "execution_count": 7,
   "id": "d53053d3",
   "metadata": {},
   "outputs": [],
   "source": [
    "# Pull data\n",
    "stock_pulled_df = api.get_bars(\n",
    "    tickers,\n",
    "    timeframe,\n",
    "    start = start,\n",
    "    end = end\n",
    ").df"
   ]
  },
  {
   "cell_type": "code",
   "execution_count": 8,
   "id": "8906838d",
   "metadata": {},
   "outputs": [
    {
     "data": {
      "text/html": [
       "<div>\n",
       "<style scoped>\n",
       "    .dataframe tbody tr th:only-of-type {\n",
       "        vertical-align: middle;\n",
       "    }\n",
       "\n",
       "    .dataframe tbody tr th {\n",
       "        vertical-align: top;\n",
       "    }\n",
       "\n",
       "    .dataframe thead th {\n",
       "        text-align: right;\n",
       "    }\n",
       "</style>\n",
       "<table border=\"1\" class=\"dataframe\">\n",
       "  <thead>\n",
       "    <tr style=\"text-align: right;\">\n",
       "      <th></th>\n",
       "      <th>open</th>\n",
       "      <th>high</th>\n",
       "      <th>low</th>\n",
       "      <th>close</th>\n",
       "      <th>volume</th>\n",
       "      <th>trade_count</th>\n",
       "      <th>vwap</th>\n",
       "      <th>symbol</th>\n",
       "    </tr>\n",
       "    <tr>\n",
       "      <th>timestamp</th>\n",
       "      <th></th>\n",
       "      <th></th>\n",
       "      <th></th>\n",
       "      <th></th>\n",
       "      <th></th>\n",
       "      <th></th>\n",
       "      <th></th>\n",
       "      <th></th>\n",
       "    </tr>\n",
       "  </thead>\n",
       "  <tbody>\n",
       "    <tr>\n",
       "      <th>2017-05-05 04:00:00+00:00</th>\n",
       "      <td>146.76</td>\n",
       "      <td>148.9800</td>\n",
       "      <td>146.76</td>\n",
       "      <td>148.96</td>\n",
       "      <td>27359822</td>\n",
       "      <td>157911</td>\n",
       "      <td>148.248475</td>\n",
       "      <td>AAPL</td>\n",
       "    </tr>\n",
       "    <tr>\n",
       "      <th>2017-05-08 04:00:00+00:00</th>\n",
       "      <td>149.03</td>\n",
       "      <td>153.7000</td>\n",
       "      <td>149.03</td>\n",
       "      <td>153.01</td>\n",
       "      <td>48864610</td>\n",
       "      <td>255930</td>\n",
       "      <td>152.033116</td>\n",
       "      <td>AAPL</td>\n",
       "    </tr>\n",
       "    <tr>\n",
       "      <th>2017-05-09 04:00:00+00:00</th>\n",
       "      <td>153.88</td>\n",
       "      <td>154.8800</td>\n",
       "      <td>153.45</td>\n",
       "      <td>153.99</td>\n",
       "      <td>39135644</td>\n",
       "      <td>221722</td>\n",
       "      <td>154.114338</td>\n",
       "      <td>AAPL</td>\n",
       "    </tr>\n",
       "    <tr>\n",
       "      <th>2017-05-10 04:00:00+00:00</th>\n",
       "      <td>153.63</td>\n",
       "      <td>153.9400</td>\n",
       "      <td>152.11</td>\n",
       "      <td>153.26</td>\n",
       "      <td>25807492</td>\n",
       "      <td>156839</td>\n",
       "      <td>153.101049</td>\n",
       "      <td>AAPL</td>\n",
       "    </tr>\n",
       "    <tr>\n",
       "      <th>2017-05-11 04:00:00+00:00</th>\n",
       "      <td>152.69</td>\n",
       "      <td>154.0700</td>\n",
       "      <td>152.31</td>\n",
       "      <td>153.95</td>\n",
       "      <td>27259011</td>\n",
       "      <td>137633</td>\n",
       "      <td>153.193138</td>\n",
       "      <td>AAPL</td>\n",
       "    </tr>\n",
       "    <tr>\n",
       "      <th>...</th>\n",
       "      <td>...</td>\n",
       "      <td>...</td>\n",
       "      <td>...</td>\n",
       "      <td>...</td>\n",
       "      <td>...</td>\n",
       "      <td>...</td>\n",
       "      <td>...</td>\n",
       "      <td>...</td>\n",
       "    </tr>\n",
       "    <tr>\n",
       "      <th>2022-04-29 04:00:00+00:00</th>\n",
       "      <td>901.43</td>\n",
       "      <td>934.3999</td>\n",
       "      <td>870.00</td>\n",
       "      <td>870.76</td>\n",
       "      <td>29438762</td>\n",
       "      <td>888856</td>\n",
       "      <td>901.192753</td>\n",
       "      <td>TSLA</td>\n",
       "    </tr>\n",
       "    <tr>\n",
       "      <th>2022-05-02 04:00:00+00:00</th>\n",
       "      <td>861.63</td>\n",
       "      <td>906.3599</td>\n",
       "      <td>848.03</td>\n",
       "      <td>902.94</td>\n",
       "      <td>25178443</td>\n",
       "      <td>783323</td>\n",
       "      <td>876.904710</td>\n",
       "      <td>TSLA</td>\n",
       "    </tr>\n",
       "    <tr>\n",
       "      <th>2022-05-03 04:00:00+00:00</th>\n",
       "      <td>902.68</td>\n",
       "      <td>924.0800</td>\n",
       "      <td>888.59</td>\n",
       "      <td>909.25</td>\n",
       "      <td>21187584</td>\n",
       "      <td>605288</td>\n",
       "      <td>908.677578</td>\n",
       "      <td>TSLA</td>\n",
       "    </tr>\n",
       "    <tr>\n",
       "      <th>2022-05-04 04:00:00+00:00</th>\n",
       "      <td>902.91</td>\n",
       "      <td>955.5000</td>\n",
       "      <td>885.28</td>\n",
       "      <td>952.62</td>\n",
       "      <td>27148468</td>\n",
       "      <td>725687</td>\n",
       "      <td>917.219531</td>\n",
       "      <td>TSLA</td>\n",
       "    </tr>\n",
       "    <tr>\n",
       "      <th>2022-05-05 04:00:00+00:00</th>\n",
       "      <td>939.59</td>\n",
       "      <td>945.6000</td>\n",
       "      <td>857.70</td>\n",
       "      <td>873.28</td>\n",
       "      <td>30755042</td>\n",
       "      <td>1012450</td>\n",
       "      <td>890.303721</td>\n",
       "      <td>TSLA</td>\n",
       "    </tr>\n",
       "  </tbody>\n",
       "</table>\n",
       "<p>6300 rows × 8 columns</p>\n",
       "</div>"
      ],
      "text/plain": [
       "                             open      high     low   close    volume  \\\n",
       "timestamp                                                               \n",
       "2017-05-05 04:00:00+00:00  146.76  148.9800  146.76  148.96  27359822   \n",
       "2017-05-08 04:00:00+00:00  149.03  153.7000  149.03  153.01  48864610   \n",
       "2017-05-09 04:00:00+00:00  153.88  154.8800  153.45  153.99  39135644   \n",
       "2017-05-10 04:00:00+00:00  153.63  153.9400  152.11  153.26  25807492   \n",
       "2017-05-11 04:00:00+00:00  152.69  154.0700  152.31  153.95  27259011   \n",
       "...                           ...       ...     ...     ...       ...   \n",
       "2022-04-29 04:00:00+00:00  901.43  934.3999  870.00  870.76  29438762   \n",
       "2022-05-02 04:00:00+00:00  861.63  906.3599  848.03  902.94  25178443   \n",
       "2022-05-03 04:00:00+00:00  902.68  924.0800  888.59  909.25  21187584   \n",
       "2022-05-04 04:00:00+00:00  902.91  955.5000  885.28  952.62  27148468   \n",
       "2022-05-05 04:00:00+00:00  939.59  945.6000  857.70  873.28  30755042   \n",
       "\n",
       "                           trade_count        vwap symbol  \n",
       "timestamp                                                  \n",
       "2017-05-05 04:00:00+00:00       157911  148.248475   AAPL  \n",
       "2017-05-08 04:00:00+00:00       255930  152.033116   AAPL  \n",
       "2017-05-09 04:00:00+00:00       221722  154.114338   AAPL  \n",
       "2017-05-10 04:00:00+00:00       156839  153.101049   AAPL  \n",
       "2017-05-11 04:00:00+00:00       137633  153.193138   AAPL  \n",
       "...                                ...         ...    ...  \n",
       "2022-04-29 04:00:00+00:00       888856  901.192753   TSLA  \n",
       "2022-05-02 04:00:00+00:00       783323  876.904710   TSLA  \n",
       "2022-05-03 04:00:00+00:00       605288  908.677578   TSLA  \n",
       "2022-05-04 04:00:00+00:00       725687  917.219531   TSLA  \n",
       "2022-05-05 04:00:00+00:00      1012450  890.303721   TSLA  \n",
       "\n",
       "[6300 rows x 8 columns]"
      ]
     },
     "execution_count": 8,
     "metadata": {},
     "output_type": "execute_result"
    }
   ],
   "source": [
    "# Preview dataframe\n",
    "stock_pulled_df"
   ]
  },
  {
   "cell_type": "code",
   "execution_count": 9,
   "id": "926785fe",
   "metadata": {},
   "outputs": [
    {
     "data": {
      "text/html": [
       "<div>\n",
       "<style scoped>\n",
       "    .dataframe tbody tr th:only-of-type {\n",
       "        vertical-align: middle;\n",
       "    }\n",
       "\n",
       "    .dataframe tbody tr th {\n",
       "        vertical-align: top;\n",
       "    }\n",
       "\n",
       "    .dataframe thead tr th {\n",
       "        text-align: left;\n",
       "    }\n",
       "</style>\n",
       "<table border=\"1\" class=\"dataframe\">\n",
       "  <thead>\n",
       "    <tr>\n",
       "      <th></th>\n",
       "      <th>AAPL</th>\n",
       "      <th>MSFT</th>\n",
       "      <th>AMZN</th>\n",
       "      <th>TSLA</th>\n",
       "      <th>GOOGL</th>\n",
       "    </tr>\n",
       "    <tr>\n",
       "      <th></th>\n",
       "      <th>close</th>\n",
       "      <th>close</th>\n",
       "      <th>close</th>\n",
       "      <th>close</th>\n",
       "      <th>close</th>\n",
       "    </tr>\n",
       "  </thead>\n",
       "  <tbody>\n",
       "    <tr>\n",
       "      <th>2017-05-05</th>\n",
       "      <td>148.96</td>\n",
       "      <td>69.00</td>\n",
       "      <td>934.15</td>\n",
       "      <td>308.35</td>\n",
       "      <td>950.28</td>\n",
       "    </tr>\n",
       "    <tr>\n",
       "      <th>2017-05-08</th>\n",
       "      <td>153.01</td>\n",
       "      <td>68.94</td>\n",
       "      <td>949.04</td>\n",
       "      <td>307.19</td>\n",
       "      <td>958.69</td>\n",
       "    </tr>\n",
       "    <tr>\n",
       "      <th>2017-05-09</th>\n",
       "      <td>153.99</td>\n",
       "      <td>69.04</td>\n",
       "      <td>952.82</td>\n",
       "      <td>321.26</td>\n",
       "      <td>956.71</td>\n",
       "    </tr>\n",
       "    <tr>\n",
       "      <th>2017-05-10</th>\n",
       "      <td>153.26</td>\n",
       "      <td>69.31</td>\n",
       "      <td>948.95</td>\n",
       "      <td>325.22</td>\n",
       "      <td>954.84</td>\n",
       "    </tr>\n",
       "    <tr>\n",
       "      <th>2017-05-11</th>\n",
       "      <td>153.95</td>\n",
       "      <td>68.46</td>\n",
       "      <td>947.62</td>\n",
       "      <td>323.10</td>\n",
       "      <td>955.89</td>\n",
       "    </tr>\n",
       "    <tr>\n",
       "      <th>...</th>\n",
       "      <td>...</td>\n",
       "      <td>...</td>\n",
       "      <td>...</td>\n",
       "      <td>...</td>\n",
       "      <td>...</td>\n",
       "    </tr>\n",
       "    <tr>\n",
       "      <th>2022-04-29</th>\n",
       "      <td>157.65</td>\n",
       "      <td>277.52</td>\n",
       "      <td>2485.63</td>\n",
       "      <td>870.76</td>\n",
       "      <td>2282.19</td>\n",
       "    </tr>\n",
       "    <tr>\n",
       "      <th>2022-05-02</th>\n",
       "      <td>157.96</td>\n",
       "      <td>284.47</td>\n",
       "      <td>2490.00</td>\n",
       "      <td>902.94</td>\n",
       "      <td>2331.66</td>\n",
       "    </tr>\n",
       "    <tr>\n",
       "      <th>2022-05-03</th>\n",
       "      <td>159.48</td>\n",
       "      <td>281.78</td>\n",
       "      <td>2485.07</td>\n",
       "      <td>909.25</td>\n",
       "      <td>2346.68</td>\n",
       "    </tr>\n",
       "    <tr>\n",
       "      <th>2022-05-04</th>\n",
       "      <td>166.02</td>\n",
       "      <td>289.98</td>\n",
       "      <td>2518.57</td>\n",
       "      <td>952.62</td>\n",
       "      <td>2445.22</td>\n",
       "    </tr>\n",
       "    <tr>\n",
       "      <th>2022-05-05</th>\n",
       "      <td>156.77</td>\n",
       "      <td>277.35</td>\n",
       "      <td>2328.14</td>\n",
       "      <td>873.28</td>\n",
       "      <td>2330.11</td>\n",
       "    </tr>\n",
       "  </tbody>\n",
       "</table>\n",
       "<p>1260 rows × 5 columns</p>\n",
       "</div>"
      ],
      "text/plain": [
       "              AAPL    MSFT     AMZN    TSLA    GOOGL\n",
       "             close   close    close   close    close\n",
       "2017-05-05  148.96   69.00   934.15  308.35   950.28\n",
       "2017-05-08  153.01   68.94   949.04  307.19   958.69\n",
       "2017-05-09  153.99   69.04   952.82  321.26   956.71\n",
       "2017-05-10  153.26   69.31   948.95  325.22   954.84\n",
       "2017-05-11  153.95   68.46   947.62  323.10   955.89\n",
       "...            ...     ...      ...     ...      ...\n",
       "2022-04-29  157.65  277.52  2485.63  870.76  2282.19\n",
       "2022-05-02  157.96  284.47  2490.00  902.94  2331.66\n",
       "2022-05-03  159.48  281.78  2485.07  909.25  2346.68\n",
       "2022-05-04  166.02  289.98  2518.57  952.62  2445.22\n",
       "2022-05-05  156.77  277.35  2328.14  873.28  2330.11\n",
       "\n",
       "[1260 rows x 5 columns]"
      ]
     },
     "execution_count": 9,
     "metadata": {},
     "output_type": "execute_result"
    }
   ],
   "source": [
    "# Create a list of columns needed to be removed\n",
    "drop_list = ['open', 'vwap', 'high', 'low', 'volume', 'trade_count', 'symbol']\n",
    "\n",
    "# Slice dataframe and drop columns\n",
    "aapl = stock_pulled_df[stock_pulled_df['symbol']=='AAPL'].drop(drop_list, axis=1)\n",
    "msft = stock_pulled_df[stock_pulled_df['symbol']=='MSFT'].drop(drop_list, axis=1)\n",
    "amzn = stock_pulled_df[stock_pulled_df['symbol']=='AMZN'].drop(drop_list, axis=1)\n",
    "tsla = stock_pulled_df[stock_pulled_df['symbol']=='TSLA'].drop(drop_list, axis=1)\n",
    "googl = stock_pulled_df[stock_pulled_df['symbol']=='GOOGL'].drop(drop_list, axis=1)\n",
    "\n",
    "# Concatenate sliced data into new dataframe\n",
    "stock_df = pd.concat(\n",
    "    [aapl, msft, amzn, tsla, googl],\n",
    "    axis=1,\n",
    "    keys=['AAPL', 'MSFT', 'AMZN', 'TSLA', 'GOOGL']\n",
    ")\n",
    "\n",
    "# Index dataframe by date\n",
    "stock_df.index=stock_df.index.date\n",
    "\n",
    "# Drop any Null values\n",
    "stock_df.dropna()"
   ]
  },
  {
   "cell_type": "code",
   "execution_count": 10,
   "id": "893d20bf",
   "metadata": {},
   "outputs": [],
   "source": [
    "# Save data to csv\n",
    "stock_df.to_csv('Data_files/stock_data.csv')"
   ]
  },
  {
   "cell_type": "markdown",
   "id": "22e13516",
   "metadata": {},
   "source": [
    "## Fetching Crypto Data"
   ]
  },
  {
   "cell_type": "code",
   "execution_count": 11,
   "id": "85cb6c95",
   "metadata": {},
   "outputs": [],
   "source": [
    "# Defining URLs\n",
    "btc_url = 'https://api.coingecko.com/api/v3/coins/bitcoin/market_chart/range?vs_currency=usd&from=1493906401&to=1651759199'\n",
    "eth_url = 'https://api.coingecko.com/api/v3/coins/ethereum/market_chart/range?vs_currency=usd&from=1493906401&to=1651759199'\n",
    "bnb_url = 'https://api.coingecko.com/api/v3/coins/binancecoin/market_chart/range?vs_currency=usd&from=1493906401&to=1651759199'\n",
    "xrp_url = 'https://api.coingecko.com/api/v3/coins/ripple/market_chart/range?vs_currency=usd&from=1493906401&to=1651759199'\n",
    "ada_url = 'https://api.coingecko.com/api/v3/coins/cardano/market_chart/range?vs_currency=usd&from=1493906401&to=1651759199'"
   ]
  },
  {
   "cell_type": "code",
   "execution_count": 12,
   "id": "93d385a9",
   "metadata": {},
   "outputs": [],
   "source": [
    "# Perform GET request to pull data for cryptos\n",
    "btc_request = requests.get(btc_url)\n",
    "eth_request = requests.get(eth_url)\n",
    "bnb_request = requests.get(bnb_url)\n",
    "xrp_request = requests.get(xrp_url)\n",
    "ada_request = requests.get(ada_url)"
   ]
  },
  {
   "cell_type": "code",
   "execution_count": 13,
   "id": "06d67939",
   "metadata": {},
   "outputs": [],
   "source": [
    "# Convert pulled data into json\n",
    "btc_request = btc_request.json()\n",
    "eth_request = eth_request.json()\n",
    "bnb_request = bnb_request.json()\n",
    "xrp_request = xrp_request.json()\n",
    "ada_request = ada_request.json()"
   ]
  },
  {
   "cell_type": "code",
   "execution_count": 14,
   "id": "2643e564",
   "metadata": {},
   "outputs": [],
   "source": [
    "# Create and organize dataframes for cryptos\n",
    "btc_df = pd.DataFrame(btc_request['prices'])\n",
    "eth_df = pd.DataFrame(eth_request['prices'])\n",
    "bnb_df = pd.DataFrame(bnb_request['prices'])\n",
    "xrp_df = pd.DataFrame(xrp_request['prices'])\n",
    "ada_df = pd.DataFrame(ada_request['prices'])"
   ]
  },
  {
   "cell_type": "code",
   "execution_count": 15,
   "id": "b42e0cb9",
   "metadata": {},
   "outputs": [],
   "source": [
    "# Rename columns\n",
    "btc_df.rename(columns = {0 : 'Date', 1 : 'Price'}, inplace=True)\n",
    "eth_df.rename(columns = {0 : 'Date', 1 : 'Price'}, inplace=True)\n",
    "bnb_df.rename(columns = {0 : 'Date', 1 : 'Price'}, inplace=True)\n",
    "xrp_df.rename(columns = {0 : 'Date', 1 : 'Price'}, inplace=True)\n",
    "ada_df.rename(columns = {0 : 'Date', 1 : 'Price'}, inplace=True)"
   ]
  },
  {
   "cell_type": "code",
   "execution_count": 16,
   "id": "6f1eafa0",
   "metadata": {},
   "outputs": [],
   "source": [
    "# Convert unix time format into traditonal date format\n",
    "btc_df['date'] = pd.to_datetime(btc_df['Date'], unit='ms')\n",
    "eth_df['date'] = pd.to_datetime(eth_df['Date'], unit='ms')\n",
    "bnb_df['date'] = pd.to_datetime(bnb_df['Date'], unit='ms')\n",
    "xrp_df['date'] = pd.to_datetime(xrp_df['Date'], unit='ms')\n",
    "ada_df['date'] = pd.to_datetime(ada_df['Date'], unit='ms')"
   ]
  },
  {
   "cell_type": "code",
   "execution_count": 17,
   "id": "9756aed4",
   "metadata": {},
   "outputs": [],
   "source": [
    "# Set new date format as index\n",
    "btc_df.set_index('date', inplace=True)\n",
    "eth_df.set_index('date', inplace=True)\n",
    "bnb_df.set_index('date', inplace=True)\n",
    "xrp_df.set_index('date', inplace=True)\n",
    "ada_df.set_index('date', inplace=True)"
   ]
  },
  {
   "cell_type": "code",
   "execution_count": 18,
   "id": "2849f307",
   "metadata": {},
   "outputs": [],
   "source": [
    "# Drop unix column\n",
    "btc_df.drop(['Date'], axis=1, inplace=True)\n",
    "eth_df.drop(['Date'], axis=1, inplace=True)\n",
    "bnb_df.drop(['Date'], axis=1, inplace=True)\n",
    "xrp_df.drop(['Date'], axis=1, inplace=True)\n",
    "ada_df.drop(['Date'], axis=1, inplace=True)"
   ]
  },
  {
   "cell_type": "code",
   "execution_count": 19,
   "id": "5a2d4a75",
   "metadata": {},
   "outputs": [],
   "source": [
    "# Concatenate crypto dataframes\n",
    "crypto_df = pd.concat(\n",
    "    [btc_df, eth_df, bnb_df, xrp_df, ada_df],\n",
    "    axis=1,\n",
    "    keys=['BTC', 'ETH', 'BNB', 'XRP', 'ADA']\n",
    ")\n",
    "\n",
    "# Index dataframe by date\n",
    "crypto_df.index=crypto_df.index.date"
   ]
  },
  {
   "cell_type": "code",
   "execution_count": 20,
   "id": "3acb335a",
   "metadata": {},
   "outputs": [],
   "source": [
    "# Save data to csv\n",
    "crypto_df.to_csv('Data_files/crypto_data.csv')"
   ]
  },
  {
   "cell_type": "markdown",
   "id": "60a9207a",
   "metadata": {},
   "source": [
    "## Stock Price 5 Years Ago"
   ]
  },
  {
   "cell_type": "code",
   "execution_count": 27,
   "id": "2b8f673f",
   "metadata": {},
   "outputs": [],
   "source": [
    "# Stock price from 5 years ago\n",
    "aapl_close = stock_df['AAPL']['close']\n",
    "\n",
    "aapl_close_2017_05_05 = aapl_close.iloc[0:1]"
   ]
  },
  {
   "cell_type": "code",
   "execution_count": 28,
   "id": "10200b1b",
   "metadata": {},
   "outputs": [
    {
     "data": {
      "text/plain": [
       "2017-05-05    148.96\n",
       "Name: close, dtype: float64"
      ]
     },
     "execution_count": 28,
     "metadata": {},
     "output_type": "execute_result"
    }
   ],
   "source": [
    "aapl_close_2017_05_05"
   ]
  },
  {
   "cell_type": "code",
   "execution_count": null,
   "id": "476ecc50",
   "metadata": {},
   "outputs": [],
   "source": []
  },
  {
   "cell_type": "markdown",
   "id": "dc1e6d71",
   "metadata": {},
   "source": [
    "## Calculate daily and cumulative returns"
   ]
  },
  {
   "cell_type": "code",
   "execution_count": 23,
   "id": "f15a5aab",
   "metadata": {},
   "outputs": [],
   "source": [
    "# Calculate daily returns for stock\n",
    "stock_daily_returns = stock_df.pct_change()\n",
    "\n",
    "# Rename columns\n",
    "stock_daily_returns.rename(columns = {'close' : 'Daily Return'}, inplace=True)"
   ]
  },
  {
   "cell_type": "code",
   "execution_count": 24,
   "id": "08bdb532",
   "metadata": {},
   "outputs": [],
   "source": [
    "# Calculate daily returns for stock\n",
    "crypto_daily_returns = crypto_df.pct_change()\n",
    "\n",
    "# Rename columns\n",
    "crypto_daily_returns.rename(columns = {'Price' : 'Return %'}, inplace=True)"
   ]
  },
  {
   "cell_type": "code",
   "execution_count": 25,
   "id": "9b4a57b8",
   "metadata": {},
   "outputs": [],
   "source": [
    "# Create merged dataframe for stock and crypto\n",
    "combined_df = pd.merge(\n",
    "    crypto_daily_returns, \n",
    "    stock_daily_returns, \n",
    "    left_index=True, \n",
    "    right_index=True)"
   ]
  },
  {
   "cell_type": "code",
   "execution_count": 26,
   "id": "6d11a182",
   "metadata": {},
   "outputs": [],
   "source": [
    "cumulative_returns = (1 + combined_df).cumprod()\n",
    "cumulative_returns.to_csv('Data_files/cumulative_returns.csv')"
   ]
  },
  {
   "cell_type": "markdown",
   "id": "4cd9fa24",
   "metadata": {},
   "source": [
    "## Conduct Quantitative Analysis\n",
    "In this section, you will calculate and visualize performance and risk metrics for the portfolios.\n"
   ]
  },
  {
   "cell_type": "code",
   "execution_count": null,
   "id": "f1e2ab7a",
   "metadata": {},
   "outputs": [],
   "source": []
  },
  {
   "cell_type": "code",
   "execution_count": null,
   "id": "7d39737f",
   "metadata": {},
   "outputs": [],
   "source": []
  },
  {
   "cell_type": "code",
   "execution_count": null,
   "id": "4aa96864",
   "metadata": {},
   "outputs": [],
   "source": []
  },
  {
   "cell_type": "markdown",
   "id": "ad2d16df",
   "metadata": {},
   "source": [
    "## Performance Analysis\n",
    "Calculate and Plot the daily returns.\n"
   ]
  },
  {
   "cell_type": "code",
   "execution_count": null,
   "id": "88f59558",
   "metadata": {},
   "outputs": [],
   "source": []
  },
  {
   "cell_type": "code",
   "execution_count": null,
   "id": "6a3dc977",
   "metadata": {},
   "outputs": [],
   "source": []
  },
  {
   "cell_type": "code",
   "execution_count": null,
   "id": "7f099373",
   "metadata": {},
   "outputs": [],
   "source": []
  }
 ],
 "metadata": {
  "kernelspec": {
   "display_name": "Python 3 (ipykernel)",
   "language": "python",
   "name": "python3"
  },
  "language_info": {
   "codemirror_mode": {
    "name": "ipython",
    "version": 3
   },
   "file_extension": ".py",
   "mimetype": "text/x-python",
   "name": "python",
   "nbconvert_exporter": "python",
   "pygments_lexer": "ipython3",
   "version": "3.7.11"
  }
 },
 "nbformat": 4,
 "nbformat_minor": 5
}
